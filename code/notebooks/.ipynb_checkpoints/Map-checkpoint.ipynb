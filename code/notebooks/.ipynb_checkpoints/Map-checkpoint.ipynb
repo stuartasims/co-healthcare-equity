{
 "cells": [
  {
   "cell_type": "markdown",
   "metadata": {},
   "source": [
    "### Quick Introduction: \n",
    "\n",
    "* In the map below, different layers exist for each available race/ethnicity group as well as non-white households which include all non-white household counts). \n",
    "\n",
    "* Each layer can be toggled using the small layer pane in the upper right corner. By default, non-white households and healthcare providers that accept medicaid are the only layers active. Add any combination or view by using the layer controls in the upper right corner.\n",
    "\n",
    "\n",
    "* The individual markers throughout the map are healthcare locations likely to be providing care for COVID-19 cases that also accept Medicaid. Providers that do not accept Medicaid are listed as a separate layer. Click on a marker pin to see the name, phone, and if they accept Medicaid (y/n).\n"
   ]
  },
  {
   "cell_type": "code",
   "execution_count": 1,
   "metadata": {},
   "outputs": [
    {
     "data": {
      "text/html": [
       "\n",
       "        <iframe\n",
       "            width=\"900\"\n",
       "            height=\"600\"\n",
       "            src=\"../../data/output/map_html.html\"\n",
       "            frameborder=\"0\"\n",
       "            allowfullscreen\n",
       "        ></iframe>\n",
       "        "
      ],
      "text/plain": [
       "<IPython.lib.display.IFrame at 0x2c1e2cf7040>"
      ]
     },
     "execution_count": 1,
     "metadata": {},
     "output_type": "execute_result"
    }
   ],
   "source": [
    "from IPython.display import IFrame\n",
    "IFrame(src='../../data/output/map_html.html', width=900, height=600)"
   ]
  }
 ],
 "metadata": {
  "kernelspec": {
   "display_name": "Python 3",
   "language": "python",
   "name": "python3"
  },
  "language_info": {
   "codemirror_mode": {
    "name": "ipython",
    "version": 3
   },
   "file_extension": ".py",
   "mimetype": "text/x-python",
   "name": "python",
   "nbconvert_exporter": "python",
   "pygments_lexer": "ipython3",
   "version": "3.8.2"
  },
  "toc": {
   "base_numbering": 1,
   "nav_menu": {},
   "number_sections": true,
   "sideBar": true,
   "skip_h1_title": false,
   "title_cell": "Table of Contents",
   "title_sidebar": "Contents",
   "toc_cell": false,
   "toc_position": {},
   "toc_section_display": true,
   "toc_window_display": false
  }
 },
 "nbformat": 4,
 "nbformat_minor": 4
}
