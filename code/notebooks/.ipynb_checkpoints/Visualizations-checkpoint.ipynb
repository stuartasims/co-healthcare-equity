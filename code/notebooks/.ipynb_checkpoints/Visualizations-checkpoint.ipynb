{
 "cells": [
  {
   "cell_type": "markdown",
   "metadata": {},
   "source": [
    "### Background\n",
    "\n",
    "My wife Caitlyn Van Heest and I worked together to create this first draft interactive map of American Community Survey Census Tracts (2018 data courtesy of Colorado Information Marketplace) that looks at the index of Black / African American (hereafter \"B/AA\") Household frequency among census blocks. If you're unfamiliar with indexing, the goal is to identify higher concentrations of some occurrence (B/AA households) within the data ignoring the scale at which you are looking. \n",
    "\n",
    "*For example: \n",
    "Census block A has 500 total inhabitants and 50 are B/AA\n",
    "Census block B has 100 total inhabitants and 40 are B/AA.*\n",
    "\n",
    "\n",
    "*Among these two blocks (600 total inhabitants) 90 identify as B/AA. The index for block A will be 50/500 (0.10) over (90/600), equaling 0.66. The index for block B is (40/100) / (90/600) = 2.66. Even though block B is smaller than A, there is a higher concentration B/AA inhabitants in block b. In fact, block B has over two-and-a-half times the mean concentration of black households among all census blocks in this example.* \n",
    "\n",
    "\n",
    "The map layer with race/ethnicity indices uses the mean concentration of households per race/ethnicity among Colorado as the denominator and not the United States at large.\n",
    "In the map below, different layers exist for ranges of indices from 1.01X up to the max around ~15.9x the average concentration of B/AA inhabitants among the whole state. Each layer can be toggled using the small layer pane in the upper right corner. \n",
    "\n",
    "![Layer Toggles](../../references/map_layer_toggle.JPG)\n",
    "\n",
    "The individual markers throughout the map are healthcare locations likely to be providing care for COVID-19 cases (limited to those inside 1x or more B/AA blocks). Click on a marker to see the name, phone, and if they accept Medicaid (y/n).\n",
    "\n",
    "![Tooltips](../../references/tooltip.JPG)\n",
    "\n",
    "-------"
   ]
  },
  {
   "cell_type": "code",
   "execution_count": 225,
   "metadata": {},
   "outputs": [],
   "source": [
    "import geopandas as gpd\n",
    "import descartes\n",
    "import folium\n",
    "from folium.plugins import MarkerCluster\n",
    "import branca.colormap as cm\n",
    "import pandas as pd\n",
    "import seaborn as sns\n",
    "import matplotlib.pyplot as plt\n",
    "import numpy as np"
   ]
  },
  {
   "cell_type": "code",
   "execution_count": null,
   "metadata": {
    "code_folding": [],
    "scrolled": true
   },
   "outputs": [],
   "source": [
    "#read in geoJSON data for the ACS blocks and healthcare locations\n",
    "hc_df = gpd.read_file('../../data/output/healthcare.geojson')\n",
    "ACS_df = gpd.read_file('../../data/output/ACS.geojson')\n",
    "\n",
    "# high_indexing = gpd.read_file('../../data/output/black_aa_indexed.geojson')\n",
    "hc_df_clipped = gpd.read_file('../../data/output/clipped_healthcare.geojson')\n",
    "\n",
    "#read in polygons of black / aa households indexed in colorado\n",
    "index_101_500 = gpd.read_file('../../data/output/index_101_500.geojson')\n",
    "index_500_1000 = gpd.read_file('../../data/output/index_500_1000.geojson')\n",
    "index_1000_1300 = gpd.read_file('../../data/output/index_1000_1300.geojson')\n",
    "index_1301_plus = gpd.read_file('../../data/output/index_1301_plus.geojson')"
   ]
  },
  {
   "cell_type": "code",
   "execution_count": null,
   "metadata": {
    "code_folding": [],
    "scrolled": false
   },
   "outputs": [],
   "source": [
    "#launch OSM basemap focused on colorado at state level\n",
    "map_osm = folium.Map(location=[39.3324, -105.1420], zoom_start=7)\n",
    "\n",
    "#add highest indexing polygons\n",
    "folium.GeoJson(index_1301_plus.to_json(),\n",
    "               name='13x (or more) concentration of Black/AA households relative to Overall Colorado',\n",
    "               tooltip=folium.features.GeoJsonTooltip(\n",
    "                   fields=['pop', 'black_indexed',\n",
    "                           'pct_black'], localize=True)).add_to(map_osm)\n",
    "#add 2nd highest indexing polygons\n",
    "\n",
    "folium.GeoJson(index_1000_1300.to_json(),\n",
    "               name='10x to 13x concentration of Black/AA households',\n",
    "               tooltip=folium.features.GeoJsonTooltip(\n",
    "                   fields=['pop', 'black_indexed',\n",
    "                           'pct_black'], localize=True)).add_to(map_osm)\n",
    "\n",
    "#add 3rd highest indexing polygons\n",
    "folium.GeoJson(index_500_1000.to_json(),\n",
    "               name='5x to 10x concentration of Black/AA households',\n",
    "               tooltip=folium.features.GeoJsonTooltip(\n",
    "                   fields=['pop', 'black_indexed',\n",
    "                           'pct_black'], localize=True)).add_to(map_osm)\n",
    "\n",
    "#add 4th highest indexing polygons\n",
    "folium.GeoJson(index_101_500.to_json(),\n",
    "               name='1.01x to 5x concentration of Black/AA households',\n",
    "               tooltip=folium.features.GeoJsonTooltip(\n",
    "                   fields=['pop', 'black_indexed',\n",
    "                           'pct_black'], localize=True)).add_to(map_osm)\n",
    "\n",
    "# use a clustered view of markers\n",
    "marker_cluster = MarkerCluster().add_to(map_osm)\n",
    "\n",
    "# add a marker for every record in the filtered data\n",
    "for each in hc_df_clipped.iterrows():\n",
    "    folium.Marker(\n",
    "        [each[1]['Latitude'], each[1]['Longitude']],\n",
    "        popup=str(each[1]['FAC_NAME'] + '\\nPhone: ' + each[1]['PHONE'] +\n",
    "                  '\\nMedicaidAccept: ' + each[1]['MEDICAID']),\n",
    "        clustered_marker=True).add_to(marker_cluster)\n",
    "\n",
    "folium.LayerControl().add_to(map_osm)\n",
    "\n",
    "\n",
    "map_osm"
   ]
  },
  {
   "cell_type": "code",
   "execution_count": null,
   "metadata": {
    "code_folding": [
     1
    ]
   },
   "outputs": [],
   "source": [
    "html_string = map_osm.get_root().render()\n",
    "with open(\"../../data/output/map_html.html\", \"w\") as text_file:\n",
    "    print(html_string, file=text_file)"
   ]
  },
  {
   "cell_type": "markdown",
   "metadata": {},
   "source": [
    "## Visualizing Distributions of Population Indices\n",
    "\n",
    "Visualizing the distributions of indices gives insight into the frequencies of different concentrations of race/ethnicity groups in the state. For example. the distribution of white households indexed in Colorado looks like this:"
   ]
  },
  {
   "cell_type": "markdown",
   "metadata": {},
   "source": [
    "![Layer Toggles](../../references/figures/white_index_hist.png)"
   ]
  },
  {
   "cell_type": "markdown",
   "metadata": {},
   "source": [
    "You can see the most frequent indices tend to be around 1.25x. This can be interpreted that most frequently, blocks in Colorado have about 1.25x the \"typical\" number of white households as compared to the average concentration of white households in all of Colorado.\n",
    "\n",
    "In contrast, here are the distributions for the indices of Black/African American, Asian, Hawaiian/Pacific Islander, and Native American race/ethnicities among those same ACS blocks."
   ]
  },
  {
   "cell_type": "markdown",
   "metadata": {},
   "source": [
    "![histograms by groups](../../references/figures/hist_by_group.png)"
   ]
  },
  {
   "cell_type": "code",
   "execution_count": null,
   "metadata": {},
   "outputs": [],
   "source": [
    "###commentary"
   ]
  },
  {
   "cell_type": "markdown",
   "metadata": {},
   "source": [
    "## Commentary"
   ]
  },
  {
   "cell_type": "markdown",
   "metadata": {},
   "source": [
    "\n",
    "### Plotting ECDF of Race/Ethnicity Index Values\n",
    "\n",
    "The empirical cumulative distribution function allows us to clearly see how much of a trait/column/feature's distribution falls before a certain value. We plotted the ECDF as an additional visual for the distributions to emphasize the localization of different groups in Colorado. Groups that have high concentrations of households in relatively few blocks will have steeply rising curves that then approach the limit of 100% very slowly. See Hawaiian / Pacific Islanders for example. Among indexed values, more than 90% are 0, meaning there are no Hawaiian/ Pacific Islanders for 90+% of blocks in Colorado. Because the average concentration of households across the state is so low, the blocks that do have households identifying as such express huge concentrations (up to 175x the mean concentration of households identifying as such compared to Colorado in general). Race/Ethnic groups that are more common across blocks would look like a more slowly rising curve that eventually reach 100.\n",
    "\n",
    "Visualizing these distributions does not directly shine light on any huge inequity itself at this point. However, very high concentrations of minority communities are often associated with historical practices such as [redlining]('https://en.wikipedia.org/wiki/Redlining') and [upward mobility is impacted by one's family geography, especially among Black Americans]('https://www.nber.org/papers/w24441.pdf'). For the purposes of this analysis, the focus is on geography and access to care among these minority communities so that individual awareness, giving, and support can be better focused on communities likely to be facing disparities in health equity."
   ]
  },
  {
   "cell_type": "markdown",
   "metadata": {
    "code_folding": [
     0,
     45,
     57,
     63
    ]
   },
   "source": [
    "![ecdf by group](../../references/figures/ecdf_by_group.png)"
   ]
  },
  {
   "cell_type": "markdown",
   "metadata": {},
   "source": [
    "Tips for interpretation:\n",
    "The y axis contains percentages. The X axis contains the index (the concentration of households of the specific group per block compared to the average concentration in the state) among the specified group.\n",
    "\n",
    "Example: 90% of blocks contain less than ~3x the concentration of Black / African American Households than the average block in Colorado. \n",
    "\n",
    "The overall shape of the curve is important. Curves that rise sharply at or near x=0 imply a high number of blocks with few to no households of the specified group among an increasingly large fraction of total blocks. A curve that rises steadily from bottom left to top right would imply a race/ethnicity that is geographically dispersed and occupies blocks at many different concentrations within the state."
   ]
  },
  {
   "cell_type": "markdown",
   "metadata": {},
   "source": [
    "### Choropleth Mapping\n"
   ]
  },
  {
   "cell_type": "code",
   "execution_count": null,
   "metadata": {
    "scrolled": true
   },
   "outputs": [],
   "source": [
    "#read in separated datasets\n",
    "acs_geometry = gpd.read_file('../../data/output/acs_geometry_only.geojson').to_json()\n",
    "acs_metrics = pd.read_csv('../../data/output/acs_data_only.csv')"
   ]
  },
  {
   "cell_type": "code",
   "execution_count": null,
   "metadata": {},
   "outputs": [],
   "source": [
    "m = folium.Map(location=[39.3324, -105.1420],\n",
    "               tiles='cartodbpositron',\n",
    "               zoom_start=7)\n",
    "\n",
    "# def add_polygon_layer(json_geometry, dataframe, column, map_var, layer_name):\n",
    "#     frame = dataframe.set_index('geonum')[column]\n",
    "#     print(frame.describe())\n",
    "#     folium.GeoJson(json_geometry,\n",
    "#                    name = layer_name,\n",
    "#                    style_function=lambda x: {\n",
    "#                        'fillcolor': step(frame[x['properties']['geonum']]),\n",
    "#                        'color': 'grey',\n",
    "#                        'weight': '0.25',\n",
    "#                        'fillopacity': 0.8\n",
    "#                    }).add_to(map_var)\n",
    "\n",
    "# layer_names = [\n",
    "#     'Black/African American Index', 'Asian American Index',\n",
    "#     'Hawaiian/Pacific Islander Index', 'Native American Index', 'Other Index',\n",
    "#     'Non-White Households Index']\n",
    "\n",
    "# for position, group in enumerate(['black_nh_index','asian_nh_index','hawpi_nh_index','ntvam_nh_index','other_nh_index','non_white_nh_index']):\n",
    "#     add_polygon_layer(acs_geometry, acs_metrics, group, m, layer_names[position])\n",
    "\n",
    "# B/AA Populations\n",
    "frame = acs_metrics.set_index('geonum')['black_nh_index']\n",
    "maxscale = frame.max()\n",
    "step = cm.linear.PuBuGn_09.to_step(8).scale(1, maxscale)\n",
    "folium.GeoJson(acs_geometry,\n",
    "               name='Black/African American Index',\n",
    "               style_function=lambda x: {\n",
    "                   'fillColor': step(frame[x['properties']['geonum']]),\n",
    "                   'color': 'grey',\n",
    "                   'weight': 0.25,\n",
    "                   'fillOpacity': 0.5\n",
    "               }).add_to(m)\n",
    "m.add_child(step)\n",
    "\n",
    "# Asian American Populations\n",
    "frame = acs_metrics.set_index('geonum')['asian_nh_index']\n",
    "maxscale = frame.max()\n",
    "step = cm.linear.PuBuGn_09.to_step(8).scale(1, maxscale)\n",
    "folium.GeoJson(acs_geometry,\n",
    "               name='Asian Index',\n",
    "               style_function=lambda x: {\n",
    "                   'fillColor': step(frame[x['properties']['geonum']]),\n",
    "                   'color': 'grey',\n",
    "                   'weight': 0.25,\n",
    "                   'fillOpacity': 0.5\n",
    "               }).add_to(m)\n",
    "\n",
    "folium.LayerControl().add_to(m)\n",
    "m"
   ]
  }
 ],
 "metadata": {
  "kernelspec": {
   "display_name": "Python 3",
   "language": "python",
   "name": "python3"
  },
  "language_info": {
   "codemirror_mode": {
    "name": "ipython",
    "version": 3
   },
   "file_extension": ".py",
   "mimetype": "text/x-python",
   "name": "python",
   "nbconvert_exporter": "python",
   "pygments_lexer": "ipython3",
   "version": "3.7.7"
  },
  "toc": {
   "base_numbering": 1,
   "nav_menu": {},
   "number_sections": true,
   "sideBar": true,
   "skip_h1_title": false,
   "title_cell": "Table of Contents",
   "title_sidebar": "Contents",
   "toc_cell": false,
   "toc_position": {},
   "toc_section_display": true,
   "toc_window_display": false
  }
 },
 "nbformat": 4,
 "nbformat_minor": 4
}
